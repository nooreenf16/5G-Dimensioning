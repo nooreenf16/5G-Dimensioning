{
 "cells": [
  {
   "cell_type": "code",
   "execution_count": 1,
   "metadata": {},
   "outputs": [],
   "source": [
    "import math\n",
    "import numpy as np\n",
    "import pandas as pd\n",
    "from sklearn.metrics import mean_squared_error\n",
    "\n",
    "import matplotlib.pyplot as plt\n",
    "plt.style.use('default')"
   ]
  },
  {
   "cell_type": "code",
   "execution_count": 2,
   "metadata": {},
   "outputs": [],
   "source": [
    "import pandas as pd\n",
    "from sklearn.preprocessing import LabelEncoder\n",
    "from sklearn.model_selection import train_test_split\n",
    "from sklearn.linear_model import LinearRegression"
   ]
  },
  {
   "cell_type": "code",
   "execution_count": 3,
   "metadata": {},
   "outputs": [],
   "source": [
    "# PARAMETERS = {\n",
    "#     'DRB.RlcSduDelayDl':0,\n",
    "#     'DRB.AirIfDelayDl':0, \n",
    "#     'DRB.RlcDelayUI':0,\n",
    "#     'DRB.AirIfDelayUI':0,\n",
    "#     'DRB.PdcpReordDelayUl':0,\n",
    "#     'DRB.PdcpF1Delay':0, #UL\n",
    "#     'DRB.PdcpSduDelayDl':0, # DL\n",
    "#     'QF.RelActNbr.QoS':0,\n",
    "#     'QF.SessionTimeUE':0,\n",
    "#     'DRB.SessionTime.5QI_x':0,\n",
    "#     'DRB.RelActNbr.5QI_x':0,\n",
    "# }"
   ]
  },
  {
   "cell_type": "code",
   "execution_count": 4,
   "metadata": {},
   "outputs": [
    {
     "data": {
      "text/html": [
       "<div>\n",
       "<style scoped>\n",
       "    .dataframe tbody tr th:only-of-type {\n",
       "        vertical-align: middle;\n",
       "    }\n",
       "\n",
       "    .dataframe tbody tr th {\n",
       "        vertical-align: top;\n",
       "    }\n",
       "\n",
       "    .dataframe thead th {\n",
       "        text-align: right;\n",
       "    }\n",
       "</style>\n",
       "<table border=\"1\" class=\"dataframe\">\n",
       "  <thead>\n",
       "    <tr style=\"text-align: right;\">\n",
       "      <th></th>\n",
       "      <th>5QIValue</th>\n",
       "      <th>Resource Type</th>\n",
       "      <th>Default Priority Level</th>\n",
       "      <th>Packet ErrorRate</th>\n",
       "      <th>Default Maximum Data Burst Volume</th>\n",
       "      <th>Default Averaging Window</th>\n",
       "      <th>Services</th>\n",
       "      <th>Packet Delay Budget</th>\n",
       "    </tr>\n",
       "  </thead>\n",
       "  <tbody>\n",
       "    <tr>\n",
       "      <th>0</th>\n",
       "      <td>1</td>\n",
       "      <td>GBR</td>\n",
       "      <td>20</td>\n",
       "      <td>10^-2</td>\n",
       "      <td>0</td>\n",
       "      <td>2000</td>\n",
       "      <td>Conversational Voice</td>\n",
       "      <td>100</td>\n",
       "    </tr>\n",
       "    <tr>\n",
       "      <th>1</th>\n",
       "      <td>2</td>\n",
       "      <td>GBR</td>\n",
       "      <td>40</td>\n",
       "      <td>10^-3</td>\n",
       "      <td>0</td>\n",
       "      <td>2000</td>\n",
       "      <td>Conversational Video (Live Streaming)</td>\n",
       "      <td>150</td>\n",
       "    </tr>\n",
       "    <tr>\n",
       "      <th>2</th>\n",
       "      <td>3</td>\n",
       "      <td>GBR</td>\n",
       "      <td>30</td>\n",
       "      <td>10^-3</td>\n",
       "      <td>0</td>\n",
       "      <td>2000</td>\n",
       "      <td>Real Time Gaming</td>\n",
       "      <td>50</td>\n",
       "    </tr>\n",
       "    <tr>\n",
       "      <th>3</th>\n",
       "      <td>3</td>\n",
       "      <td>GBR</td>\n",
       "      <td>30</td>\n",
       "      <td>10^-3</td>\n",
       "      <td>0</td>\n",
       "      <td>2000</td>\n",
       "      <td>V2X messages</td>\n",
       "      <td>50</td>\n",
       "    </tr>\n",
       "    <tr>\n",
       "      <th>4</th>\n",
       "      <td>4</td>\n",
       "      <td>GBR</td>\n",
       "      <td>50</td>\n",
       "      <td>10^-6</td>\n",
       "      <td>0</td>\n",
       "      <td>2000</td>\n",
       "      <td>Non-Conversational Video (Buffered Streaming)</td>\n",
       "      <td>300</td>\n",
       "    </tr>\n",
       "  </tbody>\n",
       "</table>\n",
       "</div>"
      ],
      "text/plain": [
       "   5QIValue Resource Type  Default Priority Level Packet ErrorRate  \\\n",
       "0         1           GBR                      20            10^-2   \n",
       "1         2           GBR                      40            10^-3   \n",
       "2         3           GBR                      30            10^-3   \n",
       "3         3           GBR                      30            10^-3   \n",
       "4         4           GBR                      50            10^-6   \n",
       "\n",
       "   Default Maximum Data Burst Volume  Default Averaging Window  \\\n",
       "0                                  0                      2000   \n",
       "1                                  0                      2000   \n",
       "2                                  0                      2000   \n",
       "3                                  0                      2000   \n",
       "4                                  0                      2000   \n",
       "\n",
       "                                        Services  Packet Delay Budget  \n",
       "0                           Conversational Voice                  100  \n",
       "1          Conversational Video (Live Streaming)                  150  \n",
       "2                               Real Time Gaming                   50  \n",
       "3                                   V2X messages                   50  \n",
       "4  Non-Conversational Video (Buffered Streaming)                  300  "
      ]
     },
     "execution_count": 4,
     "metadata": {},
     "output_type": "execute_result"
    }
   ],
   "source": [
    "ref = pd.read_excel(r'C:\\Users\\noore\\Desktop\\Dimesnioning URLLC\\data.xlsx')\n",
    "ref.head()"
   ]
  },
  {
   "cell_type": "code",
   "execution_count": 5,
   "metadata": {},
   "outputs": [],
   "source": [
    "X = ref.drop(['5QIValue', 'Default Maximum Data Burst Volume'],axis=1)\n",
    "y = ref.drop('Packet Delay Budget', axis=1)"
   ]
  },
  {
   "cell_type": "code",
   "execution_count": 6,
   "metadata": {},
   "outputs": [
    {
     "data": {
      "text/html": [
       "<div>\n",
       "<style scoped>\n",
       "    .dataframe tbody tr th:only-of-type {\n",
       "        vertical-align: middle;\n",
       "    }\n",
       "\n",
       "    .dataframe tbody tr th {\n",
       "        vertical-align: top;\n",
       "    }\n",
       "\n",
       "    .dataframe thead th {\n",
       "        text-align: right;\n",
       "    }\n",
       "</style>\n",
       "<table border=\"1\" class=\"dataframe\">\n",
       "  <thead>\n",
       "    <tr style=\"text-align: right;\">\n",
       "      <th></th>\n",
       "      <th>Resource Type</th>\n",
       "      <th>Default Priority Level</th>\n",
       "      <th>Packet ErrorRate</th>\n",
       "      <th>Default Averaging Window</th>\n",
       "      <th>Services</th>\n",
       "      <th>Packet Delay Budget</th>\n",
       "    </tr>\n",
       "  </thead>\n",
       "  <tbody>\n",
       "    <tr>\n",
       "      <th>0</th>\n",
       "      <td>GBR</td>\n",
       "      <td>20</td>\n",
       "      <td>10^-2</td>\n",
       "      <td>2000</td>\n",
       "      <td>Conversational Voice</td>\n",
       "      <td>100</td>\n",
       "    </tr>\n",
       "    <tr>\n",
       "      <th>1</th>\n",
       "      <td>GBR</td>\n",
       "      <td>40</td>\n",
       "      <td>10^-3</td>\n",
       "      <td>2000</td>\n",
       "      <td>Conversational Video (Live Streaming)</td>\n",
       "      <td>150</td>\n",
       "    </tr>\n",
       "    <tr>\n",
       "      <th>2</th>\n",
       "      <td>GBR</td>\n",
       "      <td>30</td>\n",
       "      <td>10^-3</td>\n",
       "      <td>2000</td>\n",
       "      <td>Real Time Gaming</td>\n",
       "      <td>50</td>\n",
       "    </tr>\n",
       "    <tr>\n",
       "      <th>3</th>\n",
       "      <td>GBR</td>\n",
       "      <td>30</td>\n",
       "      <td>10^-3</td>\n",
       "      <td>2000</td>\n",
       "      <td>V2X messages</td>\n",
       "      <td>50</td>\n",
       "    </tr>\n",
       "    <tr>\n",
       "      <th>4</th>\n",
       "      <td>GBR</td>\n",
       "      <td>50</td>\n",
       "      <td>10^-6</td>\n",
       "      <td>2000</td>\n",
       "      <td>Non-Conversational Video (Buffered Streaming)</td>\n",
       "      <td>300</td>\n",
       "    </tr>\n",
       "  </tbody>\n",
       "</table>\n",
       "</div>"
      ],
      "text/plain": [
       "  Resource Type  Default Priority Level Packet ErrorRate  \\\n",
       "0           GBR                      20            10^-2   \n",
       "1           GBR                      40            10^-3   \n",
       "2           GBR                      30            10^-3   \n",
       "3           GBR                      30            10^-3   \n",
       "4           GBR                      50            10^-6   \n",
       "\n",
       "   Default Averaging Window                                       Services  \\\n",
       "0                      2000                           Conversational Voice   \n",
       "1                      2000          Conversational Video (Live Streaming)   \n",
       "2                      2000                               Real Time Gaming   \n",
       "3                      2000                                   V2X messages   \n",
       "4                      2000  Non-Conversational Video (Buffered Streaming)   \n",
       "\n",
       "   Packet Delay Budget  \n",
       "0                  100  \n",
       "1                  150  \n",
       "2                   50  \n",
       "3                   50  \n",
       "4                  300  "
      ]
     },
     "execution_count": 6,
     "metadata": {},
     "output_type": "execute_result"
    }
   ],
   "source": [
    "X.head()"
   ]
  },
  {
   "cell_type": "code",
   "execution_count": 7,
   "metadata": {},
   "outputs": [],
   "source": [
    "services = ref['Services'].unique()\n",
    "rsrc_type = ref['Resource Type'].unique()"
   ]
  },
  {
   "cell_type": "code",
   "execution_count": 8,
   "metadata": {},
   "outputs": [],
   "source": [
    "# for calculating propagation latency (default transmission medium = air => speed=331.6)\n",
    "def lat_dist(dist, transm_spd=331.6):\n",
    "    prop_delay = dist/transm_spd\n",
    "    return prop_delay"
   ]
  },
  {
   "cell_type": "code",
   "execution_count": 9,
   "metadata": {},
   "outputs": [],
   "source": [
    "def generate_datarow():\n",
    "    pass"
   ]
  },
  {
   "cell_type": "code",
   "execution_count": 10,
   "metadata": {},
   "outputs": [],
   "source": [
    "def generate_dataframe(rows=100):\n",
    "    pass"
   ]
  },
  {
   "cell_type": "code",
   "execution_count": 11,
   "metadata": {},
   "outputs": [],
   "source": [
    "le_rsc = LabelEncoder()\n",
    "rsc = le_rsc.fit_transform(X['Resource Type'])\n",
    "X['Resource Type'] = rsc"
   ]
  },
  {
   "cell_type": "code",
   "execution_count": 12,
   "metadata": {},
   "outputs": [
    {
     "name": "stdout",
     "output_type": "stream",
     "text": [
      "['Delay Critical GBR' 'GBR' 'Non-GBR']\n"
     ]
    },
    {
     "data": {
      "text/plain": [
       "array([0, 1, 2])"
      ]
     },
     "execution_count": 12,
     "metadata": {},
     "output_type": "execute_result"
    }
   ],
   "source": [
    "print(le_rsc.classes_)\n",
    "le_rsc.transform(le_rsc.classes_)"
   ]
  },
  {
   "cell_type": "code",
   "execution_count": 13,
   "metadata": {},
   "outputs": [],
   "source": [
    "le_serv = LabelEncoder()\n",
    "serv = le_serv.fit_transform(X['Services'])\n",
    "X['Services'] = serv"
   ]
  },
  {
   "cell_type": "code",
   "execution_count": 14,
   "metadata": {},
   "outputs": [
    {
     "name": "stdout",
     "output_type": "stream",
     "text": [
      "['Conversational Video (Live Streaming)' 'Conversational Voice'\n",
      " 'Discrete Automation' 'Electricity Distribution- high voltage'\n",
      " 'IMS Signalling' 'Intelligent transport systems ' 'Interactive Gaming'\n",
      " 'Low Latency eMBB applications Augmented Reality' 'Mission Critical Data'\n",
      " 'Mission Critical Video user plane'\n",
      " 'Mission Critical delay sensitive signalling'\n",
      " 'Mission Critical user plane Push To Talk voice'\n",
      " 'Non-Conversational Video (Buffered Streaming)'\n",
      " 'Non-Mission-Critical user plane Push To Talk voice' 'Real Time Gaming'\n",
      " 'V2X messages' 'Video (Buffered Streaming), TCP-based'\n",
      " 'Video (Buffered Streaming), TCP-based ' 'Video (Live Streaming)' 'Voice'\n",
      " nan]\n"
     ]
    },
    {
     "data": {
      "text/plain": [
       "array([ 0,  1,  2,  3,  4,  5,  6,  7,  8,  9, 10, 11, 12, 13, 14, 15, 16,\n",
       "       17, 18, 19, 20])"
      ]
     },
     "execution_count": 14,
     "metadata": {},
     "output_type": "execute_result"
    }
   ],
   "source": [
    "print(le_serv.classes_)\n",
    "le_serv.transform(le_serv.classes_)"
   ]
  },
  {
   "cell_type": "code",
   "execution_count": 15,
   "metadata": {},
   "outputs": [
    {
     "data": {
      "text/html": [
       "<div>\n",
       "<style scoped>\n",
       "    .dataframe tbody tr th:only-of-type {\n",
       "        vertical-align: middle;\n",
       "    }\n",
       "\n",
       "    .dataframe tbody tr th {\n",
       "        vertical-align: top;\n",
       "    }\n",
       "\n",
       "    .dataframe thead th {\n",
       "        text-align: right;\n",
       "    }\n",
       "</style>\n",
       "<table border=\"1\" class=\"dataframe\">\n",
       "  <thead>\n",
       "    <tr style=\"text-align: right;\">\n",
       "      <th></th>\n",
       "      <th>5QIValue</th>\n",
       "      <th>Resource Type</th>\n",
       "      <th>Default Priority Level</th>\n",
       "      <th>Packet ErrorRate</th>\n",
       "      <th>Default Maximum Data Burst Volume</th>\n",
       "      <th>Default Averaging Window</th>\n",
       "      <th>Services</th>\n",
       "      <th>Packet Delay Budget</th>\n",
       "    </tr>\n",
       "  </thead>\n",
       "  <tbody>\n",
       "    <tr>\n",
       "      <th>0</th>\n",
       "      <td>1</td>\n",
       "      <td>GBR</td>\n",
       "      <td>20</td>\n",
       "      <td>10^-2</td>\n",
       "      <td>0</td>\n",
       "      <td>2000</td>\n",
       "      <td>Conversational Voice</td>\n",
       "      <td>100</td>\n",
       "    </tr>\n",
       "    <tr>\n",
       "      <th>1</th>\n",
       "      <td>2</td>\n",
       "      <td>GBR</td>\n",
       "      <td>40</td>\n",
       "      <td>10^-3</td>\n",
       "      <td>0</td>\n",
       "      <td>2000</td>\n",
       "      <td>Conversational Video (Live Streaming)</td>\n",
       "      <td>150</td>\n",
       "    </tr>\n",
       "    <tr>\n",
       "      <th>2</th>\n",
       "      <td>3</td>\n",
       "      <td>GBR</td>\n",
       "      <td>30</td>\n",
       "      <td>10^-3</td>\n",
       "      <td>0</td>\n",
       "      <td>2000</td>\n",
       "      <td>Real Time Gaming</td>\n",
       "      <td>50</td>\n",
       "    </tr>\n",
       "    <tr>\n",
       "      <th>3</th>\n",
       "      <td>3</td>\n",
       "      <td>GBR</td>\n",
       "      <td>30</td>\n",
       "      <td>10^-3</td>\n",
       "      <td>0</td>\n",
       "      <td>2000</td>\n",
       "      <td>V2X messages</td>\n",
       "      <td>50</td>\n",
       "    </tr>\n",
       "    <tr>\n",
       "      <th>4</th>\n",
       "      <td>4</td>\n",
       "      <td>GBR</td>\n",
       "      <td>50</td>\n",
       "      <td>10^-6</td>\n",
       "      <td>0</td>\n",
       "      <td>2000</td>\n",
       "      <td>Non-Conversational Video (Buffered Streaming)</td>\n",
       "      <td>300</td>\n",
       "    </tr>\n",
       "  </tbody>\n",
       "</table>\n",
       "</div>"
      ],
      "text/plain": [
       "   5QIValue Resource Type  Default Priority Level Packet ErrorRate  \\\n",
       "0         1           GBR                      20            10^-2   \n",
       "1         2           GBR                      40            10^-3   \n",
       "2         3           GBR                      30            10^-3   \n",
       "3         3           GBR                      30            10^-3   \n",
       "4         4           GBR                      50            10^-6   \n",
       "\n",
       "   Default Maximum Data Burst Volume  Default Averaging Window  \\\n",
       "0                                  0                      2000   \n",
       "1                                  0                      2000   \n",
       "2                                  0                      2000   \n",
       "3                                  0                      2000   \n",
       "4                                  0                      2000   \n",
       "\n",
       "                                        Services  Packet Delay Budget  \n",
       "0                           Conversational Voice                  100  \n",
       "1          Conversational Video (Live Streaming)                  150  \n",
       "2                               Real Time Gaming                   50  \n",
       "3                                   V2X messages                   50  \n",
       "4  Non-Conversational Video (Buffered Streaming)                  300  "
      ]
     },
     "execution_count": 15,
     "metadata": {},
     "output_type": "execute_result"
    }
   ],
   "source": [
    "ref.head()"
   ]
  },
  {
   "cell_type": "code",
   "execution_count": 16,
   "metadata": {},
   "outputs": [],
   "source": [
    "# splitting data\n",
    "y = X['Packet Delay Budget']\n",
    "X = X.drop([\"Packet Delay Budget\", 'Packet ErrorRate'], axis=1)\n",
    "X_train, X_test, y_train, y_test = train_test_split(X, np.array(y), test_size=0.33)"
   ]
  },
  {
   "cell_type": "code",
   "execution_count": 17,
   "metadata": {},
   "outputs": [
    {
     "data": {
      "text/plain": [
       "(16, 16)"
      ]
     },
     "execution_count": 17,
     "metadata": {},
     "output_type": "execute_result"
    }
   ],
   "source": [
    "len(X_train), len(y_train)"
   ]
  },
  {
   "cell_type": "code",
   "execution_count": 18,
   "metadata": {},
   "outputs": [],
   "source": [
    "# applying linear regression\n",
    "lin_reg = LinearRegression()\n",
    "reg = lin_reg.fit(X_train, y_train)\n",
    "pred = reg.predict(X_train)"
   ]
  },
  {
   "cell_type": "code",
   "execution_count": 19,
   "metadata": {},
   "outputs": [],
   "source": [
    "pred_test = reg.predict(X_test)"
   ]
  },
  {
   "cell_type": "code",
   "execution_count": 20,
   "metadata": {},
   "outputs": [
    {
     "name": "stdout",
     "output_type": "stream",
     "text": [
      "RMSE =  67.25417939918223\n"
     ]
    }
   ],
   "source": [
    "print(\"RMSE = \", np.sqrt(mean_squared_error(y_train, pred)))"
   ]
  },
  {
   "cell_type": "code",
   "execution_count": 21,
   "metadata": {},
   "outputs": [
    {
     "name": "stdout",
     "output_type": "stream",
     "text": [
      "RMSE =  96.49270263225687\n"
     ]
    }
   ],
   "source": [
    "print(\"RMSE = \", np.sqrt(mean_squared_error(y_test, pred_test)))"
   ]
  },
  {
   "cell_type": "code",
   "execution_count": 22,
   "metadata": {},
   "outputs": [
    {
     "data": {
      "text/plain": [
       "36.913201759303426"
      ]
     },
     "execution_count": 22,
     "metadata": {},
     "output_type": "execute_result"
    }
   ],
   "source": [
    "# final_latency = propagation delay + network latency (in ms)\n",
    "final_latency = lat_dist(100) + pred_test[0]\n",
    "final_latency"
   ]
  }
 ],
 "metadata": {
  "kernelspec": {
   "display_name": "Python 3.9.7 64-bit",
   "language": "python",
   "name": "python3"
  },
  "language_info": {
   "codemirror_mode": {
    "name": "ipython",
    "version": 3
   },
   "file_extension": ".py",
   "mimetype": "text/x-python",
   "name": "python",
   "nbconvert_exporter": "python",
   "pygments_lexer": "ipython3",
   "version": "3.9.7 (tags/v3.9.7:1016ef3, Aug 30 2021, 20:19:38) [MSC v.1929 64 bit (AMD64)]"
  },
  "orig_nbformat": 4,
  "vscode": {
   "interpreter": {
    "hash": "81794d4967e6c3204c66dcd87b604927b115b27c00565d3d43f05ba2f3a2cb0d"
   }
  }
 },
 "nbformat": 4,
 "nbformat_minor": 2
}
