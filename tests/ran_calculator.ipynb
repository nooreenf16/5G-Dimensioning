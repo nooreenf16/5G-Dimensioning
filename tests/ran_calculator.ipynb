{
 "cells": [
  {
   "cell_type": "code",
   "execution_count": 1,
   "id": "71edb887-8d8c-4575-b875-9c4869da90f1",
   "metadata": {},
   "outputs": [],
   "source": [
    "import sys\n",
    "# import pytest\n",
    "\n",
    "import sys\n",
    "sys.path.append(\"../\")\n",
    "\n",
    "from mpa_sim.services.tools import Calculator"
   ]
  },
  {
   "cell_type": "code",
   "execution_count": 2,
   "id": "474058b2-062f-4bd8-9efa-f2fb8c674208",
   "metadata": {},
   "outputs": [],
   "source": [
    "PARAMETERS = {\n",
    "    'iterations': 20,\n",
    "    'seed_value1': 1,\n",
    "    'seed_value2': 2,\n",
    "    'indoor_users_percentage': 50,\n",
    "    'los_breakpoint_m': 500,\n",
    "    'tx_macro_baseline_height': 30,\n",
    "    'tx_macro_power': 40,\n",
    "    'tx_macro_gain': 16,\n",
    "    'tx_macro_losses': 1,\n",
    "    'tx_micro_baseline_height': 10,\n",
    "    'tx_micro_power': 24,\n",
    "    'tx_micro_gain': 5,\n",
    "    'tx_micro_losses': 1,\n",
    "    'rx_gain': 4,\n",
    "    'rx_losses': 4,\n",
    "    'rx_misc_losses': 4,\n",
    "    'rx_height': 1.5,\n",
    "    'building_height': 5,\n",
    "    'street_width': 20,\n",
    "    'above_roof': 0,\n",
    "    'network_load': 50,\n",
    "    'percentile': 50,\n",
    "    'sectorization': 3,\n",
    "    'mnos': 2,\n",
    "    'asset_lifetime': 10,\n",
    "    'discount_rate': 3.5,\n",
    "    'opex_percentage_of_capex': 10,\n",
    "    'signaling_overhead': 0.18, # overhead for control channels\n",
    "    'modulation_compression': True,\n",
    "    'ru_du_ratio': 3,\n",
    "    'du_cuup_ratio': 1,\n",
    "    'cucp_cuup_ratio': 1,\n",
    "    'compression_ratio': {\n",
    "        'QPSK': 0.06,\n",
    "        '16QAM': 0.12,\n",
    "        '64QAM': 0.18,\n",
    "        '256QAM': 0.25,\n",
    "    },\n",
    "    'Numerology': 0, #µ(0)=15kHz, µ(1)=30kHz, µ(2)=60kHz\n",
    "    'Bandwidth': 20, #MHz (BW(j))\n",
    "    'Modulation': 256, #QAM\n",
    "    # 'Number_of_cells': 4,\n",
    "    'Number_of_carriers': 1,\n",
    "    'Number_of_UEs': 64, # per cell\n",
    "    'DL': 1544, # Mbps per cell\n",
    "    'UL': 824, # Mbps per cell\n",
    "    'number_of_aggregated_component_carriers': 1, # (J) max = 16\n",
    "    'DL_MIMO_Layers': 2, # (v(j)) max = 8 \n",
    "    'UL_MIMO_Layers': 1, # (v(j)) max = 4\n",
    "    'MU_MIMO':  1, # Number of Beam with MU-MIMO Users; \n",
    "    'Number_of_logical_antenna_ports': 8, # 1/2/4/8/16. Used for fronthaul throughput only, should be higher than MIMO Layers\n",
    "    'Rmax': 0.92578125, # value depends on the type of coding from 3GPP 38.212 and 3GPP 38.214 (For LDPC code maximum number is 948/1024) \n",
    "    'spectral_efficiency': 5.1152, #3GPP TS 38.214 version 15.3.0 Release 15, Table 5.1.3.1-2 (64QAM)\n",
    "    'Scaling_factor' : 1, # (f(j))\n",
    "    'DL_UP_ratio': 0.7, #10/14, # based on slot configuration 6:4:4 (6 dl, 4 guard, 4 ul) ref: https://jira.cec.lab.emc.com/browse/MP-4406\n",
    "    'IQ_mantissa_bitwidth': 8, # per I or per Q\n",
    "    'IQ_exp_bitwidth': 4,\n",
    "}"
   ]
  },
  {
   "cell_type": "code",
   "execution_count": 3,
   "id": "f126ad3b-2f24-40e0-a516-25ffecd34a77",
   "metadata": {
    "jupyter": {
     "source_hidden": true
    },
    "tags": []
   },
   "outputs": [],
   "source": [
    "COSTS = {\n",
    "    #all costs in $USD\n",
    "    'cpu': [\n",
    "        {\n",
    "            'model': '6148',\n",
    "            'price': 2988.39,\n",
    "            'cores': 20,\n",
    "            'power': 150,\n",
    "        },\n",
    "        {\n",
    "            'model': '6230',\n",
    "            'price': 1582.72,\n",
    "            'cores': 26,\n",
    "            'power': 150,\n",
    "        },\n",
    "    ],\n",
    "    'switch': [\n",
    "        {\n",
    "            'model': '10GB Fiber',\n",
    "            'price': 2000,\n",
    "            'ports': 8,\n",
    "            'power': 150,\n",
    "            'speed': 10, #Gbps\n",
    "        },\n",
    "        {\n",
    "            'model': '25GB Fiber',\n",
    "            'price': 8000,\n",
    "            'ports': 8,\n",
    "            'power': 350,\n",
    "            'speed': 25, #Gbps\n",
    "        },\n",
    "    ],\n",
    "    'server': [\n",
    "        {\n",
    "            'model': 'XR11',\n",
    "            'price': 900,\n",
    "            'size': '1U',\n",
    "            'power': 150,\n",
    "            'cpu_max': 2,\n",
    "            'pcie_max': 4,\n",
    "        },\n",
    "        {\n",
    "            'model': 'R750',\n",
    "            'price': 1700,\n",
    "            'size': '2U',\n",
    "            'power': 200,\n",
    "            'cpu_max': 2,\n",
    "            'pcie_max': 4,\n",
    "        },\n",
    "    ],\n",
    "    'lease_line_installation': [\n",
    "        {\n",
    "            'model': '1Gbps',\n",
    "            'price': 1000,\n",
    "            'speed': 1, #Gbps\n",
    "        },\n",
    "        {\n",
    "            'model': '10Gbps',\n",
    "            'price': 2000,\n",
    "            'speed': 10, #Gbps\n",
    "        },        \n",
    "        {\n",
    "            'model': '100Gbps',\n",
    "            'price': 10000,\n",
    "            'speed': 100, #Gbps\n",
    "        },\n",
    "    ],\n",
    "    'lease_line_installation_per_meter': [\n",
    "        {\n",
    "            'model': '1Gbps',\n",
    "            'price': 0.1,\n",
    "            'speed': 1, #Gbps\n",
    "        },\n",
    "        {\n",
    "            'model': '10Gbps',\n",
    "            'price': 0.2,\n",
    "            'speed': 10, #Gbps\n",
    "        },        \n",
    "        {\n",
    "            'model': '100Gbps',\n",
    "            'price': 0.3,\n",
    "            'speed': 100, #Gbps\n",
    "        },\n",
    "    ],\n",
    "    'lease_line_rental': [\n",
    "        {\n",
    "            'model': '1Gbps',\n",
    "            'price': 500,\n",
    "            'speed': 1, #Gbps\n",
    "        },\n",
    "        {\n",
    "            'model': '10Gbps',\n",
    "            'price': 5000,\n",
    "            'speed': 10, #Gbps\n",
    "        },        \n",
    "        {\n",
    "            'model': '100Gbps',\n",
    "            'price': 15000,\n",
    "            'speed': 100, #Gbps\n",
    "        },\n",
    "    ],\n",
    "    'sfp': [\n",
    "        {\n",
    "            'model': 'QSPF28',\n",
    "            'price': 599, #usd\n",
    "            'distance': 10000, #meters\n",
    "            'speed': 100, #Gbps\n",
    "        },\n",
    "        {\n",
    "            'model': 'SPF28',\n",
    "            'price': 420, #usd\n",
    "            'distance': 30000, #meters\n",
    "            'speed': 25, #Gbps\n",
    "        },\n",
    "        {\n",
    "            'model': 'Dell SPF',\n",
    "            'price': 115, #usd\n",
    "            'distance': 300, #meters\n",
    "            'speed': 10, #Gbps\n",
    "        },\n",
    "    ],\n",
    "    'single_sector_antenna': [\n",
    "        {\n",
    "            'price': 1500\n",
    "        },\n",
    "    ],\n",
    "    'ru': [\n",
    "        {\n",
    "            'price': 4000\n",
    "        },\n",
    "    ],\n",
    "    'du': [\n",
    "        {\n",
    "            'price': 10000\n",
    "        },\n",
    "    ],\n",
    "    'cu': [\n",
    "        {\n",
    "            'price': 15000\n",
    "        },\n",
    "    ],\n",
    "    'tower': [\n",
    "        {\n",
    "            'price': 10000\n",
    "        },\n",
    "    ],\n",
    "    'transportation': [\n",
    "        {\n",
    "            'price': 10000\n",
    "        },\n",
    "    ],\n",
    "    'installation': [\n",
    "        {\n",
    "            'price': 5000\n",
    "        },\n",
    "    ],\n",
    "    'site_rental': [\n",
    "        {\n",
    "            'price': 8000\n",
    "        },\n",
    "    ],\n",
    "    'power_generator_battery_system': [\n",
    "        {\n",
    "            'price': 5000\n",
    "        },\n",
    "    ],\n",
    "    'smo': [\n",
    "        {\n",
    "            'price': 2000\n",
    "        },\n",
    "    ],    \n",
    "    'l1_controller': [\n",
    "        {\n",
    "            'model': 'marvell',\n",
    "            'price': 900,\n",
    "            'ports': 4,\n",
    "            'speed': 6, # Gbps\n",
    "        },\n",
    "    ],\n",
    "\n",
    "}\n",
    "\n"
   ]
  },
  {
   "cell_type": "code",
   "execution_count": 4,
   "id": "422d123e-3204-4759-9b92-3e6ea0409749",
   "metadata": {},
   "outputs": [],
   "source": [
    "cal = Calculator(simulation_parameters = PARAMETERS)"
   ]
  },
  {
   "cell_type": "markdown",
   "id": "093a475b-4a40-4918-bcca-196b48abddf7",
   "metadata": {},
   "source": [
    "### Maximum Cell Throughput"
   ]
  },
  {
   "cell_type": "code",
   "execution_count": 5,
   "id": "b1210617-a2a3-43bb-8505-02f387e40ed0",
   "metadata": {},
   "outputs": [],
   "source": [
    "mode = 'FDD'"
   ]
  },
  {
   "cell_type": "code",
   "execution_count": 6,
   "id": "21bdfcf9-bc62-401f-958d-13bd02fb19b2",
   "metadata": {},
   "outputs": [
    {
     "data": {
      "text/plain": [
       "{'DL': 0.21630041999999994, 'UL': 0.11832461999999996}"
      ]
     },
     "execution_count": 6,
     "metadata": {},
     "output_type": "execute_result"
    }
   ],
   "source": [
    "tput = cal.max_cell_throughput(mode = mode)\n",
    "tput"
   ]
  },
  {
   "cell_type": "code",
   "execution_count": 7,
   "id": "9040776f-ec9d-4a2a-b0ab-2fed16cc04b1",
   "metadata": {},
   "outputs": [
    {
     "data": {
      "text/plain": [
       "0.33462503999999993"
      ]
     },
     "execution_count": 7,
     "metadata": {},
     "output_type": "execute_result"
    }
   ],
   "source": [
    "total = tput['DL'] + tput['UL']\n",
    "total"
   ]
  },
  {
   "cell_type": "markdown",
   "id": "03928c60-5f6b-454b-b054-2b571c388001",
   "metadata": {},
   "source": [
    "### ECPRI Throughput"
   ]
  },
  {
   "cell_type": "code",
   "execution_count": 8,
   "id": "f0502866-4d3b-48ec-8f3a-97e39ea43602",
   "metadata": {},
   "outputs": [
    {
     "data": {
      "text/plain": [
       "3.3621503999999995"
      ]
     },
     "execution_count": 8,
     "metadata": {},
     "output_type": "execute_result"
    }
   ],
   "source": [
    "cal.ecpri_throughput() #Gbps"
   ]
  },
  {
   "cell_type": "markdown",
   "id": "9a2e8bc4-515d-48b1-9e8d-5e103167f9bc",
   "metadata": {},
   "source": [
    "### DU Traffic"
   ]
  },
  {
   "cell_type": "code",
   "execution_count": 9,
   "id": "510e2c5c-5ffb-4b74-b17e-979392ed828b",
   "metadata": {},
   "outputs": [
    {
     "data": {
      "text/plain": [
       "0.6489012599999998"
      ]
     },
     "execution_count": 9,
     "metadata": {},
     "output_type": "execute_result"
    }
   ],
   "source": [
    "cal.du_nb_traffic(mode=mode)"
   ]
  },
  {
   "cell_type": "markdown",
   "id": "216564b7-c889-4cae-b39a-a344f14e3c98",
   "metadata": {},
   "source": [
    "### CU-UP Traffic"
   ]
  },
  {
   "cell_type": "code",
   "execution_count": 10,
   "id": "606aaa6c-367b-4e80-85ab-19311f467598",
   "metadata": {},
   "outputs": [
    {
     "data": {
      "text/plain": [
       "0.5320990331999998"
      ]
     },
     "execution_count": 10,
     "metadata": {},
     "output_type": "execute_result"
    }
   ],
   "source": [
    "cal.cuup_nb_traffic(mode=mode)"
   ]
  },
  {
   "cell_type": "markdown",
   "id": "073de77d-2882-421a-9639-4e951b3229c3",
   "metadata": {},
   "source": [
    "### CU-CP Traffic"
   ]
  },
  {
   "cell_type": "code",
   "execution_count": 11,
   "id": "51a336ad-2fcf-4489-be23-da6cade3d4f5",
   "metadata": {},
   "outputs": [
    {
     "data": {
      "text/plain": [
       "0.11680222679999996"
      ]
     },
     "execution_count": 11,
     "metadata": {},
     "output_type": "execute_result"
    }
   ],
   "source": [
    "cal.cucp_nb_traffic(mode=mode)"
   ]
  },
  {
   "cell_type": "code",
   "execution_count": 12,
   "id": "967a1886-4133-4eae-ba0f-c55e2aaaa228",
   "metadata": {},
   "outputs": [
    {
     "data": {
      "text/plain": [
       "0.5320990331999998"
      ]
     },
     "execution_count": 12,
     "metadata": {},
     "output_type": "execute_result"
    }
   ],
   "source": [
    "cal.core_traffic(mode=mode)"
   ]
  },
  {
   "cell_type": "code",
   "execution_count": 13,
   "id": "84a4082b-f13b-4a1b-8c90-d34a156654d4",
   "metadata": {},
   "outputs": [
    {
     "data": {
      "text/plain": [
       "0.11680222679999996"
      ]
     },
     "execution_count": 13,
     "metadata": {},
     "output_type": "execute_result"
    }
   ],
   "source": [
    "cal.smo_traffic(mode=mode)"
   ]
  },
  {
   "cell_type": "markdown",
   "id": "1305c9c3-3be4-4933-bbe6-f7a9c679ac63",
   "metadata": {},
   "source": [
    "## Required Server Resources"
   ]
  },
  {
   "cell_type": "code",
   "execution_count": 14,
   "id": "2e37f34e-4702-4287-b370-bd3d5c3c4a8c",
   "metadata": {},
   "outputs": [],
   "source": [
    "from mpa_sim.services.hw_estimator import CPU_forecasting_model\n",
    "cpu_fm = CPU_forecasting_model(simulation_parameters = PARAMETERS)"
   ]
  },
  {
   "cell_type": "code",
   "execution_count": 15,
   "id": "33032985-92f2-4767-89f2-7f196fe840d5",
   "metadata": {},
   "outputs": [],
   "source": [
    "PARAMETERS[\"DL\"] = tput['DL']\n",
    "PARAMETERS[\"UL\"] = tput['UL']"
   ]
  },
  {
   "cell_type": "code",
   "execution_count": 16,
   "id": "c1ef3024-7091-454f-9761-f6da6d1520dc",
   "metadata": {},
   "outputs": [
    {
     "name": "stderr",
     "output_type": "stream",
     "text": [
      "c:\\Python39\\lib\\site-packages\\sklearn\\base.py:329: UserWarning: Trying to unpickle estimator LinearRegression from version 0.24.2 when using version 1.0.2. This might lead to breaking code or invalid results. Use at your own risk. For more info please refer to:\n",
      "https://scikit-learn.org/stable/modules/model_persistence.html#security-maintainability-limitations\n",
      "  warnings.warn(\n",
      "c:\\Python39\\lib\\site-packages\\sklearn\\base.py:329: UserWarning: Trying to unpickle estimator MinMaxScaler from version 0.24.2 when using version 1.0.2. This might lead to breaking code or invalid results. Use at your own risk. For more info please refer to:\n",
      "https://scikit-learn.org/stable/modules/model_persistence.html#security-maintainability-limitations\n",
      "  warnings.warn(\n",
      "c:\\Python39\\lib\\site-packages\\sklearn\\base.py:443: UserWarning: X has feature names, but MinMaxScaler was fitted without feature names\n",
      "  warnings.warn(\n",
      "c:\\Python39\\lib\\site-packages\\sklearn\\base.py:443: UserWarning: X has feature names, but MinMaxScaler was fitted without feature names\n",
      "  warnings.warn(\n",
      "c:\\Python39\\lib\\site-packages\\sklearn\\base.py:443: UserWarning: X has feature names, but MinMaxScaler was fitted without feature names\n",
      "  warnings.warn(\n"
     ]
    },
    {
     "data": {
      "text/plain": [
       "{'DU_utils': 125.92865995564433,\n",
       " 'CUCP_utils': 194.7727762431615,\n",
       " 'CUUP_utils': 194.81405784642513}"
      ]
     },
     "execution_count": 16,
     "metadata": {},
     "output_type": "execute_result"
    }
   ],
   "source": [
    "model_CU, model_DU, scaler = cpu_fm.loadModels()\n",
    "res = cpu_fm.estimateCPU_Utilization_CU_DU(model_CU, model_DU, scaler)\n",
    "res"
   ]
  },
  {
   "cell_type": "code",
   "execution_count": 17,
   "id": "e0939b09",
   "metadata": {},
   "outputs": [],
   "source": [
    "import pickle as pl"
   ]
  },
  {
   "cell_type": "code",
   "execution_count": 18,
   "id": "89e087f9-9d29-477c-b3aa-329c9eeeba3c",
   "metadata": {},
   "outputs": [],
   "source": [
    "fi = open(\"data_res.plk\", 'wb')\n",
    "pl.dump(res, fi)\n",
    "fi.close()"
   ]
  },
  {
   "cell_type": "code",
   "execution_count": null,
   "id": "7a6edbe8-dd10-4135-b3b0-531b4a76cc31",
   "metadata": {},
   "outputs": [],
   "source": []
  }
 ],
 "metadata": {
  "kernelspec": {
   "display_name": "Python 3.9.7 64-bit",
   "language": "python",
   "name": "python3"
  },
  "language_info": {
   "codemirror_mode": {
    "name": "ipython",
    "version": 3
   },
   "file_extension": ".py",
   "mimetype": "text/x-python",
   "name": "python",
   "nbconvert_exporter": "python",
   "pygments_lexer": "ipython3",
   "version": "3.9.7"
  },
  "vscode": {
   "interpreter": {
    "hash": "81794d4967e6c3204c66dcd87b604927b115b27c00565d3d43f05ba2f3a2cb0d"
   }
  }
 },
 "nbformat": 4,
 "nbformat_minor": 5
}
