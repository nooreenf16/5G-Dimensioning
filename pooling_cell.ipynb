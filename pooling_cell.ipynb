{
 "cells": [
  {
   "cell_type": "code",
   "execution_count": 15,
   "metadata": {},
   "outputs": [],
   "source": [
    "import pandas as pd"
   ]
  },
  {
   "cell_type": "code",
   "execution_count": 5,
   "metadata": {},
   "outputs": [],
   "source": [
    "data2 = {\n",
    "    \"cell 1\":{\n",
    "        \"ue 1\": {\n",
    "            \"load\": 60,\n",
    "            \"utilization\": 80,\n",
    "            \"server_remaining\": 0,\n",
    "            \"server_name\": '',\n",
    "            },\n",
    "        \"ue 2\":{\n",
    "            \"load\": 50,\n",
    "            \"utilization\": 70,\n",
    "            \"server_remaining\": 0,\n",
    "            \"server_name\": ''\n",
    "        },\n",
    "    }\n",
    "}"
   ]
  },
  {
   "cell_type": "code",
   "execution_count": 6,
   "metadata": {},
   "outputs": [],
   "source": [
    "# assigning to the first cell manually so that they remaining server \n",
    "# can be used by the next cells in the loop\n",
    "serv_name=1\n",
    "for ue in data2[\"cell 1\"]:\n",
    "    data2[\"cell 1\"][ue]['server_remaining'] = 100 - data2[\"cell 1\"][ue]['utilization']\n",
    "    data2[\"cell 1\"][ue]['server_name'] = str(serv_name)\n",
    "    serv_name += 1"
   ]
  },
  {
   "cell_type": "code",
   "execution_count": 7,
   "metadata": {},
   "outputs": [],
   "source": [
    "cell2 ={\"ue 1\":{\n",
    "                \"load\": 40,\n",
    "                \"utilization\": 40,\n",
    "                \"server_remaining\": 0,\n",
    "                \"server_name\": ''\n",
    "            },\n",
    "            \"ue 2\":{\n",
    "                \"load\": 30,\n",
    "                \"utilization\": 50,\n",
    "                \"server_remaining\": 30,\n",
    "                \"server_name\": ''\n",
    "            }\n",
    "    }\n",
    "\n",
    "cell3 = {    \n",
    "        \"ue 1\":{\n",
    "            \"load\": 40,\n",
    "            \"utilization\": 40,\n",
    "            \"server_remaining\": 0,\n",
    "            \"server_name\": ''\n",
    "        },\n",
    "        \"ue 2\":{\n",
    "            \"load\": 30,\n",
    "            \"utilization\": 50,\n",
    "            \"server_remaining\": 0,\n",
    "            \"server_name\": ''\n",
    "        }\n",
    "    }"
   ]
  },
  {
   "cell_type": "code",
   "execution_count": 8,
   "metadata": {},
   "outputs": [],
   "source": [
    "cells = [cell2, cell3]"
   ]
  },
  {
   "cell_type": "code",
   "execution_count": 9,
   "metadata": {},
   "outputs": [],
   "source": [
    "for new_cell in cells:        \n",
    "        for ue_curr in new_cell:\n",
    "                util = new_cell[ue_curr]['utilization']\n",
    "\n",
    "                # check for remaining servers in all previous cell's UEs\n",
    "                for cell in data2:\n",
    "                        for ue in data2[cell]:\n",
    "                                if util<=0: break\n",
    "                                if data2[cell][ue]['server_remaining']>0:\n",
    "                                        if data2[cell][ue]['server_remaining']>util:\n",
    "                                                data2[cell][ue]['server_remaining'] -= util\n",
    "                                                util = 0\n",
    "                                        else:\n",
    "                                                util -= data2[cell][ue]['server_remaining']\n",
    "                                                data2[cell][ue]['server_remaining'] = 0\n",
    "                                        new_cell[ue_curr]['server_name'] += data2[cell][ue]['server_name'][-1]\n",
    "\n",
    "                # if utilization of current UE is still left, assign a new server\n",
    "                if util > 0:\n",
    "                        new_cell[ue_curr]['server_name'] += str(serv_name)\n",
    "                        new_cell[ue_curr]['server_remaining'] = 100 - util\n",
    "                        serv_name += 1\n",
    "\n",
    "        # append the new cell to the main data/site\n",
    "        data2.update({\"cell {}\".format(len(data2)+1): new_cell})\n",
    "        "
   ]
  },
  {
   "cell_type": "code",
   "execution_count": 14,
   "metadata": {},
   "outputs": [
    {
     "name": "stdout",
     "output_type": "stream",
     "text": [
      "cell 1\n",
      "\t ue 1\n",
      "\t\t{'load': 60, 'utilization': 80, 'server_remaining': 0, 'server_name': '1'}\n",
      "\t ue 2\n",
      "\t\t{'load': 50, 'utilization': 70, 'server_remaining': 0, 'server_name': '2'}\n",
      "cell 2\n",
      "\t ue 1\n",
      "\t\t{'load': 40, 'utilization': 40, 'server_remaining': 0, 'server_name': '12'}\n",
      "\t ue 2\n",
      "\t\t{'load': 30, 'utilization': 50, 'server_remaining': 0, 'server_name': '23'}\n",
      "cell 3\n",
      "\t ue 1\n",
      "\t\t{'load': 40, 'utilization': 40, 'server_remaining': 0, 'server_name': '3'}\n",
      "\t ue 2\n",
      "\t\t{'load': 30, 'utilization': 50, 'server_remaining': 70, 'server_name': '34'}\n"
     ]
    }
   ],
   "source": [
    "for cell in data2:\n",
    "    print(cell)\n",
    "    for ue in data2[cell]:\n",
    "        print('\\t', ue, end=\"\\n\\t\\t\")\n",
    "        print(data2[cell][ue])"
   ]
  },
  {
   "cell_type": "code",
   "execution_count": 18,
   "metadata": {},
   "outputs": [
    {
     "data": {
      "text/html": [
       "<div>\n",
       "<style scoped>\n",
       "    .dataframe tbody tr th:only-of-type {\n",
       "        vertical-align: middle;\n",
       "    }\n",
       "\n",
       "    .dataframe tbody tr th {\n",
       "        vertical-align: top;\n",
       "    }\n",
       "\n",
       "    .dataframe thead th {\n",
       "        text-align: right;\n",
       "    }\n",
       "</style>\n",
       "<table border=\"1\" class=\"dataframe\">\n",
       "  <thead>\n",
       "    <tr style=\"text-align: right;\">\n",
       "      <th></th>\n",
       "      <th></th>\n",
       "      <th>load</th>\n",
       "      <th>utilization</th>\n",
       "      <th>server_remaining</th>\n",
       "      <th>server_name</th>\n",
       "    </tr>\n",
       "  </thead>\n",
       "  <tbody>\n",
       "    <tr>\n",
       "      <th rowspan=\"2\" valign=\"top\">cell 1</th>\n",
       "      <th>ue 1</th>\n",
       "      <td>60</td>\n",
       "      <td>80</td>\n",
       "      <td>0</td>\n",
       "      <td>1</td>\n",
       "    </tr>\n",
       "    <tr>\n",
       "      <th>ue 2</th>\n",
       "      <td>50</td>\n",
       "      <td>70</td>\n",
       "      <td>0</td>\n",
       "      <td>2</td>\n",
       "    </tr>\n",
       "    <tr>\n",
       "      <th rowspan=\"2\" valign=\"top\">cell 2</th>\n",
       "      <th>ue 1</th>\n",
       "      <td>40</td>\n",
       "      <td>40</td>\n",
       "      <td>0</td>\n",
       "      <td>12</td>\n",
       "    </tr>\n",
       "    <tr>\n",
       "      <th>ue 2</th>\n",
       "      <td>30</td>\n",
       "      <td>50</td>\n",
       "      <td>0</td>\n",
       "      <td>23</td>\n",
       "    </tr>\n",
       "    <tr>\n",
       "      <th rowspan=\"2\" valign=\"top\">cell 3</th>\n",
       "      <th>ue 1</th>\n",
       "      <td>40</td>\n",
       "      <td>40</td>\n",
       "      <td>0</td>\n",
       "      <td>3</td>\n",
       "    </tr>\n",
       "    <tr>\n",
       "      <th>ue 2</th>\n",
       "      <td>30</td>\n",
       "      <td>50</td>\n",
       "      <td>70</td>\n",
       "      <td>34</td>\n",
       "    </tr>\n",
       "  </tbody>\n",
       "</table>\n",
       "</div>"
      ],
      "text/plain": [
       "            load utilization server_remaining server_name\n",
       "cell 1 ue 1   60          80                0           1\n",
       "       ue 2   50          70                0           2\n",
       "cell 2 ue 1   40          40                0          12\n",
       "       ue 2   30          50                0          23\n",
       "cell 3 ue 1   40          40                0           3\n",
       "       ue 2   30          50               70          34"
      ]
     },
     "execution_count": 18,
     "metadata": {},
     "output_type": "execute_result"
    }
   ],
   "source": [
    "pd.concat({k: pd.DataFrame(v).T for k, v in data2.items()}, axis=0)"
   ]
  }
 ],
 "metadata": {
  "kernelspec": {
   "display_name": "Python 3",
   "language": "python",
   "name": "python3"
  },
  "language_info": {
   "codemirror_mode": {
    "name": "ipython",
    "version": 3
   },
   "file_extension": ".py",
   "mimetype": "text/x-python",
   "name": "python",
   "nbconvert_exporter": "python",
   "pygments_lexer": "ipython3",
   "version": "3.9.7"
  },
  "orig_nbformat": 4,
  "vscode": {
   "interpreter": {
    "hash": "81794d4967e6c3204c66dcd87b604927b115b27c00565d3d43f05ba2f3a2cb0d"
   }
  }
 },
 "nbformat": 4,
 "nbformat_minor": 2
}
